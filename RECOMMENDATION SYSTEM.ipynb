{
 "cells": [
  {
   "cell_type": "code",
   "execution_count": 5,
   "id": "0fe76508-d152-4bd8-aeec-1c6189c3e053",
   "metadata": {},
   "outputs": [
    {
     "name": "stdout",
     "output_type": "stream",
     "text": [
      "Top recommendations for User 2:\n",
      "Movie 105 (Recommendation Score: 3.83)\n",
      "Movie 102 (Recommendation Score: 1.77)\n",
      "Movie 103 (Recommendation Score: 1.33)\n"
     ]
    }
   ],
   "source": [
    "import pandas as pd\n",
    "import numpy as np\n",
    "from collections import defaultdict\n",
    "\n",
    "# Sample data\n",
    "data = {\n",
    "    'UserID': [1, 1, 1, 2, 2, 3, 3, 3, 4, 4, 5, 5],\n",
    "    'MovieID': [101, 102, 103, 101, 104, 102, 103, 105, 104, 105, 101, 105],\n",
    "    'Rating': [5, 4, 3, 4, 5, 2, 4, 5, 3, 4, 5, 4]\n",
    "}\n",
    "df = pd.DataFrame(data)\n",
    "\n",
    "# Create user-item matrix\n",
    "user_item_matrix = df.pivot_table(index='UserID', columns='MovieID', values='Rating').fillna(0)\n",
    "\n",
    "# Calculate cosine similarity between users\n",
    "def cosine_similarity(a, b):\n",
    "    dot_product = np.dot(a, b)\n",
    "    norm_a = np.linalg.norm(a)\n",
    "    norm_b = np.linalg.norm(b)\n",
    "    return dot_product / (norm_a * norm_b)\n",
    "\n",
    "# Find similar users\n",
    "def find_similar_users(user_id, matrix, k=3):\n",
    "    similarities = []\n",
    "    for uid in matrix.index:\n",
    "        if uid != user_id:\n",
    "            sim = cosine_similarity(matrix.loc[user_id], matrix.loc[uid])\n",
    "            similarities.append((uid, sim))\n",
    "    similarities.sort(key=lambda x: x[1], reverse=True)\n",
    "    return similarities[:k]\n",
    "\n",
    "# Generate recommendations\n",
    "def recommend_movies(user_id, n=3):\n",
    "    similar_users = find_similar_users(user_id, user_item_matrix)\n",
    "    user_movies = set(df[df['UserID'] == user_id]['MovieID'])\n",
    "    \n",
    "    recommendations = defaultdict(float)\n",
    "    for uid, similarity in similar_users:\n",
    "        for _, row in df[df['UserID'] == uid].iterrows():\n",
    "            if row['MovieID'] not in user_movies:\n",
    "                recommendations[row['MovieID']] += row['Rating'] * similarity\n",
    "    \n",
    "    return sorted(recommendations.items(), key=lambda x: x[1], reverse=True)[:n]\n",
    "\n",
    "# Test the system\n",
    "user_id = 2\n",
    "print(f\"Top recommendations for User {user_id}:\")\n",
    "for movie, score in recommend_movies(user_id):\n",
    "    print(f\"Movie {movie} (Recommendation Score: {score:.2f})\")"
   ]
  },
  {
   "cell_type": "code",
   "execution_count": null,
   "id": "084436ef-7c18-44d8-ae10-20f3f5f9f75b",
   "metadata": {},
   "outputs": [],
   "source": []
  }
 ],
 "metadata": {
  "kernelspec": {
   "display_name": "Python 3 (ipykernel)",
   "language": "python",
   "name": "python3"
  },
  "language_info": {
   "codemirror_mode": {
    "name": "ipython",
    "version": 3
   },
   "file_extension": ".py",
   "mimetype": "text/x-python",
   "name": "python",
   "nbconvert_exporter": "python",
   "pygments_lexer": "ipython3",
   "version": "3.12.4"
  }
 },
 "nbformat": 4,
 "nbformat_minor": 5
}
